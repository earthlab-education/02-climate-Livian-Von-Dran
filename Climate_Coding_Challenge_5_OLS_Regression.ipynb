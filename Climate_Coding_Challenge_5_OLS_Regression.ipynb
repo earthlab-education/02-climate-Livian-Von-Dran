{
  "cells": [
    {
      "cell_type": "markdown",
      "id": "c7ccefea-9ed9-4011-ab50-3d846331eb87",
      "metadata": {},
      "source": [
        "# Climate Coding Challenge\n",
        "\n",
        "Climate change is impacting the way people live around the world\n",
        "\n",
        "# So, is the climate changing?\n",
        "\n",
        "## STEP 0: Set up\n",
        "\n",
        "To get started on this notebook, you’ll need to restore any variables\n",
        "from previous notebooks to your workspace. To save time and memory, make\n",
        "sure to specify which variables you want to load."
      ]
    },
    {
      "cell_type": "code",
      "execution_count": 1,
      "id": "4d990e2d",
      "metadata": {},
      "outputs": [],
      "source": [
        "# Restore boulder_annual_temp_df\n",
        "%store -r boulder_annual_temp_df"
      ]
    },
    {
      "cell_type": "markdown",
      "id": "da0a2c1e-32b8-4762-b080-3027117f2e6b",
      "metadata": {},
      "source": [
        "## STEP 1: Quantify how fast the climate is changing with a trend line\n",
        "\n",
        "Global climate change causes different effects in different places when\n",
        "we zoom in to a local area. However, you probably noticed when you\n",
        "looked at mean annual temperatures over time that they were rising. We\n",
        "can use a technique called **Linear Ordinary Least Squares (OLS)\n",
        "Regression** to determine how quickly temperatures are rising on\n",
        "average.\n",
        "\n",
        "Before we get started, it’s important to consider that OLS regression is\n",
        "not always the right technique, because it makes some important\n",
        "assumptions about our data:\n",
        "\n",
        "Random error  \n",
        "Variation in temperature can be caused by many things beyond global\n",
        "climate change. For example, temperatures often vary with patterns of\n",
        "ocean surface temperatures (*teleconnections*), the most famous of which\n",
        "are El Niño and La Niña. By using a linear OLS regression, we’re\n",
        "assuming that all the variation in temperature except for climate change\n",
        "is random.\n",
        "\n",
        "Normally distributed error  \n",
        "If you have taken a statistics class, you probably learned a lot about\n",
        "the normal, or Gaussian distribution. For right now, what you need to\n",
        "know is that OLS regression is useful for identifying trends in average\n",
        "temperature, but wouldn’t be appropriate for looking at trends in daily\n",
        "precipitation (because most days have zero precipitation), or at maximum\n",
        "or minimum annual temperatures (because these are extreme values, and\n",
        "the normal distribution tends to underestimate the likelihood of large\n",
        "events).\n",
        "\n",
        "Linearity  \n",
        "We’re assuming that temperatures are increasing or decreasing at a\n",
        "constant rate over time. We wouldn’t be able to look at rates that\n",
        "change over time. For example, many locations in the Arctic remained the\n",
        "same temperature for much longer than the rest of the world, because ice\n",
        "melt was absorbing all the extra heat. Linear OLS regression wouldn’t be\n",
        "able to identify when the temperature rise began on its own.\n",
        "\n",
        "Stationarity  \n",
        "We’re assuming that variation in temperature caused by things *other*\n",
        "than global climate change (e.g. the random error) behaves the same over\n",
        "time. For example, the linear OLS regression can’t take increased\n",
        "variability from year to year into account, which is a common effect of\n",
        "climate change. We often see “global weirding”, or more extreme head\n",
        "*and* cold, in addition to overall increases. You can observe this most\n",
        "easily by looking at your daily data again. Does it seem to be fanning\n",
        "in or out over time?\n",
        "\n",
        "It’s pretty rare to encounter a perfect statistical model where all the\n",
        "assumptions are met, but you want to be on the lookout for serious\n",
        "discrepancies, especially when making predictions. For example,\n",
        "[ignoring assumptions about Gaussian error arguably led to the 2008\n",
        "financial crash](https://www.wired.com/2009/02/wp-quant/)."
      ]
    },
    {
      "cell_type": "markdown",
      "id": "66aaae8f-1b0a-481e-a56e-8201441ff3ea",
      "metadata": {},
      "source": [
        "<link rel=\"stylesheet\" type=\"text/css\" href=\"./assets/styles.css\"><div class=\"callout callout-style-default callout-titled callout-respond\"><div class=\"callout-header\"><div class=\"callout-icon-container\"><i class=\"callout-icon\"></i></div><div class=\"callout-title-container flex-fill\">Reflect and Respond: Is linear OLS regression right for your data?</div></div><div class=\"callout-body-container callout-body\"><p>Take a look at your data. In the cell below, write a few sentences\n",
        "about ways your data does and does not meet the linear OLS regression\n",
        "assumptions.</p></div></div>"
      ]
    },
    {
      "cell_type": "markdown",
      "id": "c946a364",
      "metadata": {},
      "source": [
        "Despite not meeting all assumptions, linear OLS regression is suitable\n",
        "for showing changes in average annual temperature over time. For our\n",
        "dataset, it is safe to make two assumptions: the error is nominally \n",
        "distributed, and temperature is increasing at a constant rate over time. \n",
        "Climate change is more complex than influencing warming trends globally;\n",
        "it contributes to severe weather events and extreme temperature\n",
        "fluctuations, so assumptions of random error and stationarity should not\n",
        "be made."
      ]
    },
    {
      "cell_type": "markdown",
      "id": "ee3db170-c886-4ee0-ba96-4003f3b6e791",
      "metadata": {},
      "source": [
        "<link rel=\"stylesheet\" type=\"text/css\" href=\"./assets/styles.css\"><div class=\"callout callout-style-default callout-titled callout-task\"><div class=\"callout-header\"><div class=\"callout-icon-container\"><i class=\"callout-icon\"></i></div><div class=\"callout-title-container flex-fill\">Try It: Import Packages</div></div><div class=\"callout-body-container callout-body\"><p>The following cell contains package imports that you will need to\n",
        "calculate and plot an OLS Linear trend line. Make sure to run the cell\n",
        "before moving on, and if you have any additional packages you would like\n",
        "to use, add them here later on.</p></div></div>"
      ]
    },
    {
      "cell_type": "code",
      "execution_count": 2,
      "id": "49bc5aef",
      "metadata": {},
      "outputs": [],
      "source": [
        "#  Advanced options on matplotlib/seaborn/pandas plots\n",
        "# Import matplotlib.pyplot as plt\n",
        "import matplotlib.pyplot as plt\n",
        "# Common statistical plots for tabular data\n",
        "# Import seaborn as sns\n",
        "import seaborn as sns\n",
        "# Fit an OLS linear regression\n",
        "from sklearn.linear_model import LinearRegression"
      ]
    },
    {
      "cell_type": "markdown",
      "id": "4683080d-ca0d-4641-8cbd-0f5fbd0bcf75",
      "metadata": {},
      "source": [
        "<link rel=\"stylesheet\" type=\"text/css\" href=\"./assets/styles.css\"><div class=\"callout callout-style-default callout-titled callout-task\"><div class=\"callout-header\"><div class=\"callout-icon-container\"><i class=\"callout-icon\"></i></div><div class=\"callout-title-container flex-fill\">Try It: Regression</div></div><div class=\"callout-body-container callout-body\"><ol type=\"1\">\n",
        "<li>To get sample code, ask ChatGPT how to fit a linear model to your\n",
        "data. If you’re new to using large language models, go ahead and check\n",
        "out <a\n",
        "href=\"https://chatgpt.com/share/649b897b-9075-457e-8e12-308f795312a1\">our\n",
        "query</a></li>\n",
        "<li>Copy code that uses the <code>scikit-learn</code> package to perform\n",
        "a OLS linear regression to the code cell below.</li>\n",
        "<li>Check out your previous plot. Does it make sense to include all the\n",
        "data when calculating a trend line? Be sure to select out data that\n",
        "meets the OLS assumptions.</li>\n",
        "</ol></div></div>\n",
        "\n",
        "> **Note**\n",
        ">\n",
        "> We know that some computers, networks, and countries block LLM (large\n",
        "> language model) sites, and that LLMs can sometimes perpetuate\n",
        "> oppressive or offensive language and ideas. However, LLMs are\n",
        "> increasingly standard tools for programming – [according to\n",
        "> GitHub](https://github.com/features/copilot) many developers code 55%\n",
        "> faster with LLM assistance. We also see in our classes that LLMs give\n",
        "> students the ability to work on complex real-world problems earlier\n",
        "> on. We feel it’s worth the trade-off, and at this point we would be\n",
        "> doing you a disservice professionally to teach you to code without\n",
        "> LLMs. If you can’t access them, don’t worry – we’ll present a variety\n",
        "> of options for finding example code. For example, you can also search\n",
        "> for an example on a site like\n",
        "> [StackOverflow](https://stackoverflow.com/) (this is how we all\n",
        "> learned to code, and with the right question it’s a fantastic resource\n",
        "> for any coder to get access to up-to-date information from world\n",
        "> experts quickly). You can also use our solutions as a starting point."
      ]
    },
    {
      "cell_type": "code",
      "execution_count": 3,
      "id": "f228dd43",
      "metadata": {},
      "outputs": [
        {
          "data": {
            "text/plain": [
              "array([1893, 1894, 1895, 1896, 1897, 1898, 1899, 1900, 1901, 1902, 1903,\n",
              "       1904, 1905, 1906, 1907, 1908, 1909, 1910, 1911, 1912, 1913, 1914,\n",
              "       1915, 1916, 1917, 1918, 1919, 1920, 1921, 1922, 1923, 1924, 1925,\n",
              "       1926, 1927, 1928, 1929, 1930, 1931, 1932, 1933, 1934, 1935, 1936,\n",
              "       1937, 1938, 1939, 1940, 1941, 1942, 1943, 1944, 1945, 1946, 1947,\n",
              "       1948, 1949, 1950, 1951, 1952, 1953, 1954, 1955, 1956, 1957, 1958,\n",
              "       1959, 1960, 1961, 1962, 1963, 1964, 1965, 1966, 1967, 1968, 1969,\n",
              "       1970, 1971, 1972, 1973, 1974, 1975, 1976, 1977, 1978, 1979, 1980,\n",
              "       1981, 1982, 1983, 1984, 1985, 1986, 1987, 1988, 1989, 1990, 1991,\n",
              "       1992, 1993, 1994, 1995, 1996, 1997, 1998, 1999, 2000, 2001, 2002,\n",
              "       2003, 2004, 2005, 2006, 2007, 2008, 2009, 2010, 2011, 2012, 2013,\n",
              "       2014, 2015, 2016, 2017, 2018, 2019, 2020, 2021, 2022, 2023],\n",
              "      dtype=int32)"
            ]
          },
          "execution_count": 3,
          "metadata": {},
          "output_type": "execute_result"
        }
      ],
      "source": [
        "boulder_annual_temp_df.index.year.values"
      ]
    },
    {
      "cell_type": "code",
      "execution_count": 4,
      "id": "97e0cfbd",
      "metadata": {
        "template": "student"
      },
      "outputs": [
        {
          "name": "stdout",
          "output_type": "stream",
          "text": [
            "Slope: 0.018095139055852492\n",
            "Intercept: -22.988033588959425\n"
          ]
        }
      ],
      "source": [
        "# This code was prepared with the help of ChatGPT\n",
        "\n",
        "# Change the index from date to year and turn it into a column\n",
        "# boulder_annual_temp_df is the DataFrame\n",
        "boulder_annual_temp_df.index.year.values \n",
        "\n",
        "# Remove NaN values from input y (the temperature values)\n",
        "# Rename the DataFrame to \"boulder_clean_temp_df\"\n",
        "boulder_clean_temp_df = (\n",
        "    boulder_annual_temp_df.dropna(subset=['temperature_C'])\n",
        ")\n",
        "boulder_clean_temp_df\n",
        "\n",
        "# Note: Imports must be run to fit linear regression model\n",
        "# Reshape the \"Year\" column to be a 2D array for scikit-learn\n",
        "X = boulder_clean_temp_df.index.year.values.reshape(-1, 1)\n",
        "\n",
        "# Get the temperature values using .values\n",
        "y = boulder_clean_temp_df['temperature_C'].values\n",
        " \n",
        "# Create and fit the linear regression model\n",
        "model = LinearRegression()\n",
        "model.fit(X, y)\n",
        "\n",
        "# Obtain the slope and intercept\n",
        "slope = model.coef_[0]\n",
        "intercept = model.intercept_\n",
        "\n",
        "# Print the slope and intercept\n",
        "print(f\"Slope: {slope}\")\n",
        "print(f\"Intercept: {intercept}\")"
      ]
    },
    {
      "cell_type": "markdown",
      "id": "d9c88aae-f391-48f4-aeb6-d8a5034c3423",
      "metadata": {},
      "source": [
        "## STEP 2: Plot your trend line\n",
        "\n",
        "Trend lines are often used to help your audience understand and process\n",
        "a time-series plot. In this case, we’ve chosed mean temperature values\n",
        "rather than extremes, so we think OLS is an appropriate model to use to\n",
        "show a trend.\n",
        "\n",
        "> **Is it ok to plot a trend line even if OLS isn’t an appropriate\n",
        "> model?**\n",
        ">\n",
        "> This is a tricky issue. When it comes to a trend line, choosing a\n",
        "> model that is technically more appropriate may require much more\n",
        "> complex code without resulting in a noticeably different trend line.\n",
        ">\n",
        "> We think an OLS trend line is an ok visual tool to indicate the\n",
        "> approximate direction and size of a trend. If you are showing standard\n",
        "> error, making predictions or inferences based on your model, or\n",
        "> calculating probabilities (p-values) based on your model, or making\n",
        "> statements about the statistical significance of a trend, we’d suggest\n",
        "> reconsidering your choice of model.\n",
        "\n",
        "<link rel=\"stylesheet\" type=\"text/css\" href=\"./assets/styles.css\"><div class=\"callout callout-style-default callout-titled callout-task\"><div class=\"callout-header\"><div class=\"callout-icon-container\"><i class=\"callout-icon\"></i></div><div class=\"callout-title-container flex-fill\">Try It: Regression Plot</div></div><div class=\"callout-body-container callout-body\"><ol type=\"1\">\n",
        "<li>Add values for x (year) and y (temperature) to plot a regression\n",
        "plot. You will have to select out the year from the index values, just\n",
        "like you probably did when fitting your linear model above!</li>\n",
        "<li>Label the axes of your plot with the <code>title</code>,\n",
        "<code>xlabel</code>, and <code>ylabel</code> parameters. We’ve gotten\n",
        "you started with an example that shows how to put in the degree symbol.\n",
        "Make sure your labels match what you’re plotting!</li>\n",
        "<li>Can you figure out how to customize the colors and line style on\n",
        "your plot? Check out the <a\n",
        "href=\"https://seaborn.pydata.org\"><code>seaborn</code> documentation</a>\n",
        "for ideas.</li>\n",
        "</ol></div></div>"
      ]
    },
    {
      "cell_type": "code",
      "execution_count": 5,
      "id": "7c69e074",
      "metadata": {
        "template": "student"
      },
      "outputs": [
        {
          "data": {
            "image/png": "[encoded data removed]",
            "text/plain": [
              "<Figure size 640x480 with 1 Axes>"
            ]
          },
          "metadata": {},
          "output_type": "display_data"
        }
      ],
      "source": [
        "# Plot tne annual average temperature for Boulder with a trend line\n",
        "# X-axis: Year; Y-axis: Temperature (in Celsius)\n",
        "ax = sns.regplot(\n",
        "    x=boulder_annual_temp_df.index.year,\n",
        "    y=boulder_annual_temp_df.temperature_C\n",
        ")\n",
        "\n",
        "# Label the title and axes\n",
        "ax.set(\n",
        "    title='Average Annual Temperature in Boulder, CO',\n",
        "    xlabel='Year',\n",
        "    ylabel='Temperature ($^o$C)'\n",
        ")\n",
        "\n",
        "# Display the plot without extra text\n",
        "plt.show()"
      ]
    },
    {
      "cell_type": "markdown",
      "id": "a9dd04fd-98bd-4533-ab8f-f8bb40a92e8d",
      "metadata": {},
      "source": [
        "<link rel=\"stylesheet\" type=\"text/css\" href=\"./assets/styles.css\"><div class=\"callout callout-style-default callout-titled callout-respond\"><div class=\"callout-header\"><div class=\"callout-icon-container\"><i class=\"callout-icon\"></i></div><div class=\"callout-title-container flex-fill\">Reflect and Respond: Interpret the trend</div></div><div class=\"callout-body-container callout-body\"><ol type=\"1\">\n",
        "<li>Create a new Markdown cell below this one.</li>\n",
        "<li>Write a plot headline. Your headline should\n",
        "<strong>interpret</strong> your plot, unlike a caption which neutrally\n",
        "describes the image.</li>\n",
        "<li>Is the climate changing? How much? Report the slope of your trend\n",
        "line.</li>\n",
        "</ol></div></div>"
      ]
    },
    {
      "cell_type": "markdown",
      "id": "01f9927b",
      "metadata": {},
      "source": [
        "Over time, climate change has increased the average annual \n",
        "temperature in Boulder, CO.\n",
        "\n",
        "The climate is becoming warmer in Boulder, CO. On average, its average \n",
        "annual temperature is increasing by 0.018°C each year; this amounts to\n",
        "an average increase of 0.18°C every decade and 1.8°C every century. \n",
        "Unfortunately, this is reflected in the start and endpoints of the\n",
        "graph: the average annual temperature was 11.62°C in 1901 and 15°C in\n",
        "2023. This may suggest that the climate is warming faster than \n",
        "projected, but linear OLS regression plots cannot account for \n",
        "acceleration, only linearity. Furthermore, the plot shows the average \n",
        "annual temperature has been in flux in recent years—an unfortunate \n",
        "byproduct of climate change."
      ]
    }
  ],
  "metadata": {
    "kernelspec": {
      "display_name": "base",
      "language": "python",
      "name": "python3"
    },
    "language_info": {
      "codemirror_mode": {
        "name": "ipython",
        "version": 3
      },
      "file_extension": ".py",
      "mimetype": "text/x-python",
      "name": "python",
      "nbconvert_exporter": "python",
      "pygments_lexer": "ipython3",
      "version": "3.11.6"
    }
  },
  "nbformat": 4,
  "nbformat_minor": 5
}
